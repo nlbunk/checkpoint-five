{
 "cells": [
  {
   "cell_type": "markdown",
   "metadata": {
    "azdata_cell_guid": "c9a57f69-e372-43d2-94fc-ab1a9097069f"
   },
   "source": [
    "# Checkpoint Five: Modeling Data\n",
    "\n",
    "With your visualizations ready to go, the final step in your project is to do some predictive analysis on your dataset. You will be using linear regression for your model. You will not be penalized if your linear regression model does not work out. You just need to build the model and make notes as to the results.\n",
    "\n",
    "Link to my dataset:\n",
    "\n",
    "## Prepare Your Dataframe\n",
    "\n",
    "Import any libraries you need and create a dataframe."
   ]
  },
  {
   "cell_type": "code",
   "execution_count": 1,
   "metadata": {
    "azdata_cell_guid": "f9287db4-8af9-4bce-9a54-ffeeee0e045f"
   },
   "outputs": [],
   "source": [
    "# Importing naumpy and pandas libraries to read the data\n",
    "\n",
    "# Supress Warnings\n",
    "import warnings\n",
    "warnings.filterwarnings('ignore')\n",
    "\n",
    "# Import the numpy and pandas package\n",
    "import numpy as np\n",
    "import pandas as pd\n"
   ]
  },
  {
   "cell_type": "code",
   "execution_count": 3,
   "metadata": {},
   "outputs": [
    {
     "data": {
      "text/html": [
       "<div>\n",
       "<style scoped>\n",
       "    .dataframe tbody tr th:only-of-type {\n",
       "        vertical-align: middle;\n",
       "    }\n",
       "\n",
       "    .dataframe tbody tr th {\n",
       "        vertical-align: top;\n",
       "    }\n",
       "\n",
       "    .dataframe thead th {\n",
       "        text-align: right;\n",
       "    }\n",
       "</style>\n",
       "<table border=\"1\" class=\"dataframe\">\n",
       "  <thead>\n",
       "    <tr style=\"text-align: right;\">\n",
       "      <th></th>\n",
       "      <th>Unnamed: 0</th>\n",
       "      <th>Unnamed: 0.1</th>\n",
       "      <th>Cust_ID</th>\n",
       "      <th>Acct_ID</th>\n",
       "      <th>Acct_Desc</th>\n",
       "      <th>Inv_Num</th>\n",
       "      <th>Inv_Date</th>\n",
       "      <th>Debit_Amt</th>\n",
       "      <th>Credit_Amt</th>\n",
       "      <th>Last_Inv_Date</th>\n",
       "      <th>Sales_Rep_ID</th>\n",
       "      <th>Job_ID</th>\n",
       "      <th>Inv_Total_Credit</th>\n",
       "      <th>Inv_Total_Debit</th>\n",
       "      <th>Inv_Total_Sale</th>\n",
       "      <th>Repeat_Cust</th>\n",
       "    </tr>\n",
       "  </thead>\n",
       "  <tbody>\n",
       "    <tr>\n",
       "      <th>0</th>\n",
       "      <td>52344</td>\n",
       "      <td>52351</td>\n",
       "      <td>103</td>\n",
       "      <td>30900</td>\n",
       "      <td>Sales - Grounds Maint</td>\n",
       "      <td>14493</td>\n",
       "      <td>2008-07-01</td>\n",
       "      <td>0.0</td>\n",
       "      <td>2174.74</td>\n",
       "      <td>2015-09-28</td>\n",
       "      <td>NaN</td>\n",
       "      <td>08888-09,09-GRND. MAINT,00-REVENUE</td>\n",
       "      <td>2174.74</td>\n",
       "      <td>0.0</td>\n",
       "      <td>2174.74</td>\n",
       "      <td>n</td>\n",
       "    </tr>\n",
       "    <tr>\n",
       "      <th>1</th>\n",
       "      <td>52358</td>\n",
       "      <td>52365</td>\n",
       "      <td>103</td>\n",
       "      <td>30900</td>\n",
       "      <td>Sales - Grounds Maint</td>\n",
       "      <td>14581</td>\n",
       "      <td>2008-07-07</td>\n",
       "      <td>0.0</td>\n",
       "      <td>475.00</td>\n",
       "      <td>2015-09-28</td>\n",
       "      <td>NaN</td>\n",
       "      <td>08888-09,09-GRND. MAINT,00-REVENUE</td>\n",
       "      <td>475.00</td>\n",
       "      <td>0.0</td>\n",
       "      <td>475.00</td>\n",
       "      <td>y</td>\n",
       "    </tr>\n",
       "    <tr>\n",
       "      <th>2</th>\n",
       "      <td>4526</td>\n",
       "      <td>4528</td>\n",
       "      <td>103</td>\n",
       "      <td>30200</td>\n",
       "      <td>Sales - Landscaping</td>\n",
       "      <td>14690</td>\n",
       "      <td>2008-07-31</td>\n",
       "      <td>0.0</td>\n",
       "      <td>921.25</td>\n",
       "      <td>2015-09-28</td>\n",
       "      <td>GEORGE</td>\n",
       "      <td>08258-02GC,02-PLANTING,00-REVENUE</td>\n",
       "      <td>921.25</td>\n",
       "      <td>0.0</td>\n",
       "      <td>921.25</td>\n",
       "      <td>y</td>\n",
       "    </tr>\n",
       "    <tr>\n",
       "      <th>3</th>\n",
       "      <td>52404</td>\n",
       "      <td>52411</td>\n",
       "      <td>103</td>\n",
       "      <td>30900</td>\n",
       "      <td>Sales - Grounds Maint</td>\n",
       "      <td>14731</td>\n",
       "      <td>2008-08-01</td>\n",
       "      <td>0.0</td>\n",
       "      <td>2174.74</td>\n",
       "      <td>2015-09-28</td>\n",
       "      <td>GCP3</td>\n",
       "      <td>08888-09,09-GRND. MAINT,00-REVENUE</td>\n",
       "      <td>2174.74</td>\n",
       "      <td>0.0</td>\n",
       "      <td>2174.74</td>\n",
       "      <td>y</td>\n",
       "    </tr>\n",
       "    <tr>\n",
       "      <th>4</th>\n",
       "      <td>52449</td>\n",
       "      <td>52456</td>\n",
       "      <td>103</td>\n",
       "      <td>30900</td>\n",
       "      <td>Sales - Grounds Maint</td>\n",
       "      <td>14831</td>\n",
       "      <td>2008-09-01</td>\n",
       "      <td>0.0</td>\n",
       "      <td>2174.74</td>\n",
       "      <td>2015-09-28</td>\n",
       "      <td>GCP3</td>\n",
       "      <td>08888-09,09-GRND. MAINT,00-REVENUE</td>\n",
       "      <td>2174.74</td>\n",
       "      <td>0.0</td>\n",
       "      <td>2174.74</td>\n",
       "      <td>y</td>\n",
       "    </tr>\n",
       "    <tr>\n",
       "      <th>...</th>\n",
       "      <td>...</td>\n",
       "      <td>...</td>\n",
       "      <td>...</td>\n",
       "      <td>...</td>\n",
       "      <td>...</td>\n",
       "      <td>...</td>\n",
       "      <td>...</td>\n",
       "      <td>...</td>\n",
       "      <td>...</td>\n",
       "      <td>...</td>\n",
       "      <td>...</td>\n",
       "      <td>...</td>\n",
       "      <td>...</td>\n",
       "      <td>...</td>\n",
       "      <td>...</td>\n",
       "      <td>...</td>\n",
       "    </tr>\n",
       "    <tr>\n",
       "      <th>32816</th>\n",
       "      <td>30215</td>\n",
       "      <td>30222</td>\n",
       "      <td>holyt</td>\n",
       "      <td>30800</td>\n",
       "      <td>Sales - Snow - Plowing</td>\n",
       "      <td>13424</td>\n",
       "      <td>2008-02-08</td>\n",
       "      <td>0.0</td>\n",
       "      <td>190.00</td>\n",
       "      <td>2008-03-12</td>\n",
       "      <td>SNOW/JEFF</td>\n",
       "      <td>08STORM #13-02/06/08,08-SNOW REMOVAL,00-REVENUE</td>\n",
       "      <td>565.00</td>\n",
       "      <td>0.0</td>\n",
       "      <td>565.00</td>\n",
       "      <td>y</td>\n",
       "    </tr>\n",
       "    <tr>\n",
       "      <th>32817</th>\n",
       "      <td>30303</td>\n",
       "      <td>30310</td>\n",
       "      <td>holyt</td>\n",
       "      <td>30800</td>\n",
       "      <td>Sales - Snow - Plowing</td>\n",
       "      <td>13539</td>\n",
       "      <td>2008-02-19</td>\n",
       "      <td>0.0</td>\n",
       "      <td>380.00</td>\n",
       "      <td>2008-03-12</td>\n",
       "      <td>SNOW/JEFF</td>\n",
       "      <td>08sTORM  #14- 02/19/,08-SNOW REMOVAL,00-REVENUE</td>\n",
       "      <td>580.00</td>\n",
       "      <td>0.0</td>\n",
       "      <td>580.00</td>\n",
       "      <td>y</td>\n",
       "    </tr>\n",
       "    <tr>\n",
       "      <th>32818</th>\n",
       "      <td>30358</td>\n",
       "      <td>30365</td>\n",
       "      <td>holyt</td>\n",
       "      <td>30800</td>\n",
       "      <td>Sales - Snow - Plowing</td>\n",
       "      <td>13597</td>\n",
       "      <td>2008-02-25</td>\n",
       "      <td>0.0</td>\n",
       "      <td>190.00</td>\n",
       "      <td>2008-03-12</td>\n",
       "      <td>SNOW/JEFF</td>\n",
       "      <td>08sTORM  #15- 02/21/,08-SNOW REMOVAL,00-REVENUE</td>\n",
       "      <td>925.00</td>\n",
       "      <td>0.0</td>\n",
       "      <td>925.00</td>\n",
       "      <td>y</td>\n",
       "    </tr>\n",
       "    <tr>\n",
       "      <th>32819</th>\n",
       "      <td>30373</td>\n",
       "      <td>30380</td>\n",
       "      <td>holyt</td>\n",
       "      <td>30800</td>\n",
       "      <td>Sales - Snow - Plowing</td>\n",
       "      <td>13612</td>\n",
       "      <td>2008-02-25</td>\n",
       "      <td>0.0</td>\n",
       "      <td>190.00</td>\n",
       "      <td>2008-03-12</td>\n",
       "      <td>SNOW/JEFF</td>\n",
       "      <td>08sTORM  #16- 02/24/,08-SNOW REMOVAL,00-REVENUE</td>\n",
       "      <td>380.00</td>\n",
       "      <td>0.0</td>\n",
       "      <td>380.00</td>\n",
       "      <td>y</td>\n",
       "    </tr>\n",
       "    <tr>\n",
       "      <th>32820</th>\n",
       "      <td>36393</td>\n",
       "      <td>36400</td>\n",
       "      <td>holyt</td>\n",
       "      <td>30810</td>\n",
       "      <td>Sales - Snow - Spreading</td>\n",
       "      <td>13695</td>\n",
       "      <td>2008-03-12</td>\n",
       "      <td>0.0</td>\n",
       "      <td>190.00</td>\n",
       "      <td>2008-03-12</td>\n",
       "      <td>SNOW/JEFF</td>\n",
       "      <td>08sTORM  #17- 03/07/,08-SNOW REMOVAL,00-REVENUE</td>\n",
       "      <td>275.00</td>\n",
       "      <td>0.0</td>\n",
       "      <td>275.00</td>\n",
       "      <td>y</td>\n",
       "    </tr>\n",
       "  </tbody>\n",
       "</table>\n",
       "<p>32821 rows × 16 columns</p>\n",
       "</div>"
      ],
      "text/plain": [
       "       Unnamed: 0  Unnamed: 0.1 Cust_ID  Acct_ID                 Acct_Desc  \\\n",
       "0           52344         52351     103    30900     Sales - Grounds Maint   \n",
       "1           52358         52365     103    30900     Sales - Grounds Maint   \n",
       "2            4526          4528     103    30200       Sales - Landscaping   \n",
       "3           52404         52411     103    30900     Sales - Grounds Maint   \n",
       "4           52449         52456     103    30900     Sales - Grounds Maint   \n",
       "...           ...           ...     ...      ...                       ...   \n",
       "32816       30215         30222   holyt    30800    Sales - Snow - Plowing   \n",
       "32817       30303         30310   holyt    30800    Sales - Snow - Plowing   \n",
       "32818       30358         30365   holyt    30800    Sales - Snow - Plowing   \n",
       "32819       30373         30380   holyt    30800    Sales - Snow - Plowing   \n",
       "32820       36393         36400   holyt    30810  Sales - Snow - Spreading   \n",
       "\n",
       "      Inv_Num    Inv_Date  Debit_Amt  Credit_Amt Last_Inv_Date Sales_Rep_ID  \\\n",
       "0       14493  2008-07-01        0.0     2174.74    2015-09-28          NaN   \n",
       "1       14581  2008-07-07        0.0      475.00    2015-09-28          NaN   \n",
       "2       14690  2008-07-31        0.0      921.25    2015-09-28       GEORGE   \n",
       "3       14731  2008-08-01        0.0     2174.74    2015-09-28         GCP3   \n",
       "4       14831  2008-09-01        0.0     2174.74    2015-09-28         GCP3   \n",
       "...       ...         ...        ...         ...           ...          ...   \n",
       "32816   13424  2008-02-08        0.0      190.00    2008-03-12    SNOW/JEFF   \n",
       "32817   13539  2008-02-19        0.0      380.00    2008-03-12    SNOW/JEFF   \n",
       "32818   13597  2008-02-25        0.0      190.00    2008-03-12    SNOW/JEFF   \n",
       "32819   13612  2008-02-25        0.0      190.00    2008-03-12    SNOW/JEFF   \n",
       "32820   13695  2008-03-12        0.0      190.00    2008-03-12    SNOW/JEFF   \n",
       "\n",
       "                                                Job_ID  Inv_Total_Credit  \\\n",
       "0                   08888-09,09-GRND. MAINT,00-REVENUE           2174.74   \n",
       "1                   08888-09,09-GRND. MAINT,00-REVENUE            475.00   \n",
       "2                    08258-02GC,02-PLANTING,00-REVENUE            921.25   \n",
       "3                   08888-09,09-GRND. MAINT,00-REVENUE           2174.74   \n",
       "4                   08888-09,09-GRND. MAINT,00-REVENUE           2174.74   \n",
       "...                                                ...               ...   \n",
       "32816  08STORM #13-02/06/08,08-SNOW REMOVAL,00-REVENUE            565.00   \n",
       "32817  08sTORM  #14- 02/19/,08-SNOW REMOVAL,00-REVENUE            580.00   \n",
       "32818  08sTORM  #15- 02/21/,08-SNOW REMOVAL,00-REVENUE            925.00   \n",
       "32819  08sTORM  #16- 02/24/,08-SNOW REMOVAL,00-REVENUE            380.00   \n",
       "32820  08sTORM  #17- 03/07/,08-SNOW REMOVAL,00-REVENUE            275.00   \n",
       "\n",
       "       Inv_Total_Debit  Inv_Total_Sale Repeat_Cust  \n",
       "0                  0.0         2174.74           n  \n",
       "1                  0.0          475.00           y  \n",
       "2                  0.0          921.25           y  \n",
       "3                  0.0         2174.74           y  \n",
       "4                  0.0         2174.74           y  \n",
       "...                ...             ...         ...  \n",
       "32816              0.0          565.00           y  \n",
       "32817              0.0          580.00           y  \n",
       "32818              0.0          925.00           y  \n",
       "32819              0.0          380.00           y  \n",
       "32820              0.0          275.00           y  \n",
       "\n",
       "[32821 rows x 16 columns]"
      ]
     },
     "execution_count": 3,
     "metadata": {},
     "output_type": "execute_result"
    }
   ],
   "source": [
    "sales = pd.read_csv('Sales.csv')\n",
    "sales"
   ]
  },
  {
   "cell_type": "markdown",
   "metadata": {
    "azdata_cell_guid": "d794ffe0-9cd3-4812-bc7d-f75460cf611c"
   },
   "source": [
    "## Find Correlations\n",
    "\n",
    "Use either pairplot or a heatmap or both to find the two variables with the strongest correlation in your dataset."
   ]
  },
  {
   "cell_type": "code",
   "execution_count": 11,
   "metadata": {
    "azdata_cell_guid": "b009376d-9eb1-4cf0-9487-f0ddc3dbc1cd"
   },
   "outputs": [
    {
     "data": {
      "image/png": "[encoded data removed]",
      "text/plain": [
       "<Figure size 1440x720 with 1 Axes>"
      ]
     },
     "metadata": {
      "needs_background": "light"
     },
     "output_type": "display_data"
    }
   ],
   "source": [
    "# Import matplotlib and seaborn libraries to visualize the data\n",
    "import matplotlib.pyplot as plt \n",
    "import seaborn as sns\n",
    "\n",
    "# Using pairplot we'll visualize the data for correlation\n",
    "sns.pairplot(sales, x_vars=['Acct_ID'], \n",
    "             y_vars='Inv_Total_Sale', size=10, aspect=2, kind='scatter')\n",
    "plt.show()"
   ]
  },
  {
   "cell_type": "code",
   "execution_count": 10,
   "metadata": {},
   "outputs": [
    {
     "data": {
      "image/png": "[encoded data removed]",
      "text/plain": [
       "<Figure size 432x288 with 2 Axes>"
      ]
     },
     "metadata": {
      "needs_background": "light"
     },
     "output_type": "display_data"
    }
   ],
   "source": [
    "# Visualizing the data using heatmap\n",
    "sns.heatmap(sales.corr(), cmap=\"YlGnBu\", annot = True)\n",
    "plt.show()\n"
   ]
  },
  {
   "cell_type": "markdown",
   "metadata": {
    "azdata_cell_guid": "b75b6098-4152-4701-9136-a8f774c8583e"
   },
   "source": [
    "## Create Your Model\n",
    "\n",
    "Use the two columns with the strongest correlation to create and train your model. Make sure to print out the summary and plot the column values and the line produced by the model."
   ]
  },
  {
   "cell_type": "code",
   "execution_count": 21,
   "metadata": {
    "azdata_cell_guid": "05ecd9c7-e4a4-4d5c-b092-3dff597e96a3"
   },
   "outputs": [],
   "source": [
    "# Step 1 is to assign your x and y\n",
    "# Creating X and y\n",
    "X = sales['Inv_Total_Credit']\n",
    "y = sales['Inv_Total_Sale']\n",
    "# Step 2 is to create your train and test sets\n",
    "# Splitting the varaibles as training and testing\n",
    "from sklearn.model_selection import train_test_split\n",
    "X_train, X_test, y_train, y_test = train_test_split(X, y, train_size = 0.7, \n",
    "                                                    test_size = 0.3, random_state = 100)"
   ]
  },
  {
   "cell_type": "code",
   "execution_count": 22,
   "metadata": {
    "azdata_cell_guid": "f55fbe86-74b8-44f7-af96-7448e58983d7",
    "tags": []
   },
   "outputs": [],
   "source": [
    "# Step 3 is to build the model. Remember to import any libraries you may need\n",
    "# Importing Statsmodels.api library from Stamodel package\n",
    "import statsmodels.api as sm\n",
    "\n",
    "# Adding a constant to get an intercept\n",
    "X_train_sm = sm.add_constant(X_train)# Step 3 is to build the model. Remember to import any libraries you may need\n"
   ]
  },
  {
   "cell_type": "code",
   "execution_count": 23,
   "metadata": {},
   "outputs": [
    {
     "data": {
      "text/plain": [
       "const              -3.753708\n",
       "Inv_Total_Credit    0.976798\n",
       "dtype: float64"
      ]
     },
     "execution_count": 23,
     "metadata": {},
     "output_type": "execute_result"
    }
   ],
   "source": [
    "# Step 4 is to perform residual analysis\n",
    "# Fitting the resgression line using 'OLS'\n",
    "lr = sm.OLS(y_train, X_train_sm).fit()\n",
    "\n",
    "# Printing the parameters\n",
    "lr.params"
   ]
  },
  {
   "cell_type": "markdown",
   "metadata": {
    "azdata_cell_guid": "c021f50d-92b2-4359-b3a9-c47f62f0a94f"
   },
   "source": [
    "## Error Terms\n",
    "\n",
    "Finally, plot your error terms!"
   ]
  },
  {
   "cell_type": "code",
   "execution_count": 24,
   "metadata": {
    "azdata_cell_guid": "87480c6c-1bb6-4135-953a-c74ba3da518d"
   },
   "outputs": [
    {
     "data": {
      "image/png": "[encoded data removed]",
      "text/plain": [
       "<Figure size 432x288 with 1 Axes>"
      ]
     },
     "metadata": {
      "needs_background": "light"
     },
     "output_type": "display_data"
    }
   ],
   "source": [
    "# Visualizing the regression line\n",
    "plt.scatter(X_train, y_train)\n",
    "plt.plot(X_train, 6.948 + 0.054*X_train, 'r')\n",
    "plt.show()"
   ]
  },
  {
   "cell_type": "markdown",
   "metadata": {
    "azdata_cell_guid": "5fc50d24-c873-4801-87f2-a1e518caf424"
   },
   "source": [
    "## Summarize Your Work\n",
    "\n",
    "Make notes of your answers to the questions below.\n",
    "\n",
    "1. What was your R-squared value? 0.638\n",
    "2. Based on your results, do you think a linear regression model was the best type of predictive analysis for your dataset? It was not particularly effective in this case.\n",
    "3. Was your plot of the error terms a bell curve? Not really\n",
    "\n",
    "This really didn't make sense with my dataset.  Although total_credit and invoic_total had a close correlation there really is not a correlation since I used the debit and credit to calculate the total_Invoice sale"
   ]
  }
 ],
 "metadata": {
  "kernelspec": {
   "display_name": "Python 3",
   "language": "python",
   "name": "python3"
  },
  "language_info": {
   "codemirror_mode": {
    "name": "ipython",
    "version": 3
   },
   "file_extension": ".py",
   "mimetype": "text/x-python",
   "name": "python",
   "nbconvert_exporter": "python",
   "pygments_lexer": "ipython3",
   "version": "3.8.8"
  }
 },
 "nbformat": 4,
 "nbformat_minor": 2
}
